{
 "cells": [
  {
   "cell_type": "markdown",
   "metadata": {
    "id": "mMT1tvqJJOSa"
   },
   "source": [
    "# Q6: Improve Performance (20 pts)\n",
    "\n",
    "Many techniques have been proposed in the literature to improve classification performance for deep networks. In this section, we try to use a recently proposed technique called [mixup](https://arxiv.org/abs/1710.09412). The main idea is to augment the training set with linear combinations of images and labels. Read through the paper and modify your model to implement mixup. Report your performance, along with training/test curves, and comparison with baseline in the report."
   ]
  },
  {
   "cell_type": "code",
   "execution_count": 1,
   "metadata": {
    "colab": {
     "base_uri": "https://localhost:8080/"
    },
    "executionInfo": {
     "elapsed": 13200,
     "status": "ok",
     "timestamp": 1646159634779,
     "user": {
      "displayName": "Punit Bhatt",
      "photoUrl": "https://lh3.googleusercontent.com/a-/AOh14GgrxmjUFMKUQAzHle30ZYoVyjo08hYnXCz-PrtI=s64",
      "userId": "00383454386425572934"
     },
     "user_tz": 300
    },
    "id": "rdBqIs-yJOSc",
    "outputId": "0cddd3c7-8135-4560-9802-01ab52ee1aaf"
   },
   "outputs": [
    {
     "name": "stdout",
     "output_type": "stream",
     "text": [
      "Mounted at /content/drive\n"
     ]
    }
   ],
   "source": [
    "from google.colab import drive\n",
    "drive.mount('/content/drive')"
   ]
  },
  {
   "cell_type": "code",
   "execution_count": 2,
   "metadata": {
    "colab": {
     "base_uri": "https://localhost:8080/"
    },
    "executionInfo": {
     "elapsed": 31525,
     "status": "ok",
     "timestamp": 1646159666295,
     "user": {
      "displayName": "Punit Bhatt",
      "photoUrl": "https://lh3.googleusercontent.com/a-/AOh14GgrxmjUFMKUQAzHle30ZYoVyjo08hYnXCz-PrtI=s64",
      "userId": "00383454386425572934"
     },
     "user_tz": 300
    },
    "id": "5e24txSCQ5gz",
    "outputId": "111ab07f-a50d-48f4-8cd9-4450f1b988ca"
   },
   "outputs": [
    {
     "name": "stdout",
     "output_type": "stream",
     "text": [
      "--2022-03-01 18:33:54--  http://host.robots.ox.ac.uk/pascal/VOC/voc2007/VOCtrainval_06-Nov-2007.tar\n",
      "Resolving host.robots.ox.ac.uk (host.robots.ox.ac.uk)... 129.67.94.152\n",
      "Connecting to host.robots.ox.ac.uk (host.robots.ox.ac.uk)|129.67.94.152|:80... connected.\n",
      "HTTP request sent, awaiting response... 200 OK\n",
      "Length: 460032000 (439M) [application/x-tar]\n",
      "Saving to: ‘VOCtrainval_06-Nov-2007.tar’\n",
      "\n",
      "VOCtrainval_06-Nov- 100%[===================>] 438.72M  32.4MB/s    in 14s     \n",
      "\n",
      "2022-03-01 18:34:08 (30.9 MB/s) - ‘VOCtrainval_06-Nov-2007.tar’ saved [460032000/460032000]\n",
      "\n",
      "--2022-03-01 18:34:10--  http://host.robots.ox.ac.uk/pascal/VOC/voc2007/VOCtest_06-Nov-2007.tar\n",
      "Resolving host.robots.ox.ac.uk (host.robots.ox.ac.uk)... 129.67.94.152\n",
      "Connecting to host.robots.ox.ac.uk (host.robots.ox.ac.uk)|129.67.94.152|:80... connected.\n",
      "HTTP request sent, awaiting response... 200 OK\n",
      "Length: 451020800 (430M) [application/x-tar]\n",
      "Saving to: ‘VOCtest_06-Nov-2007.tar’\n",
      "\n",
      "VOCtest_06-Nov-2007 100%[===================>] 430.13M  33.0MB/s    in 14s     \n",
      "\n",
      "2022-03-01 18:34:24 (30.8 MB/s) - ‘VOCtest_06-Nov-2007.tar’ saved [451020800/451020800]\n",
      "\n"
     ]
    }
   ],
   "source": [
    "!wget http://host.robots.ox.ac.uk/pascal/VOC/voc2007/VOCtrainval_06-Nov-2007.tar\n",
    "!tar -xf VOCtrainval_06-Nov-2007.tar\n",
    "\n",
    "!wget http://host.robots.ox.ac.uk/pascal/VOC/voc2007/VOCtest_06-Nov-2007.tar \n",
    "!tar -xf VOCtest_06-Nov-2007.tar"
   ]
  },
  {
   "cell_type": "code",
   "execution_count": 3,
   "metadata": {
    "colab": {
     "base_uri": "https://localhost:8080/"
    },
    "executionInfo": {
     "elapsed": 184,
     "status": "ok",
     "timestamp": 1646159666467,
     "user": {
      "displayName": "Punit Bhatt",
      "photoUrl": "https://lh3.googleusercontent.com/a-/AOh14GgrxmjUFMKUQAzHle30ZYoVyjo08hYnXCz-PrtI=s64",
      "userId": "00383454386425572934"
     },
     "user_tz": 300
    },
    "id": "vYLL80dtQ9Pj",
    "outputId": "0d7013ee-40d1-4eac-a20c-7c83ec14397a"
   },
   "outputs": [
    {
     "name": "stdout",
     "output_type": "stream",
     "text": [
      "/content/drive/MyDrive/spring22/16824/hw1\n"
     ]
    }
   ],
   "source": [
    "%cd drive/MyDrive/spring22/16824/hw1"
   ]
  },
  {
   "cell_type": "code",
   "execution_count": 4,
   "metadata": {
    "executionInfo": {
     "elapsed": 8205,
     "status": "ok",
     "timestamp": 1646159674670,
     "user": {
      "displayName": "Punit Bhatt",
      "photoUrl": "https://lh3.googleusercontent.com/a-/AOh14GgrxmjUFMKUQAzHle30ZYoVyjo08hYnXCz-PrtI=s64",
      "userId": "00383454386425572934"
     },
     "user_tz": 300
    },
    "id": "1m4MTcM8RRXy"
   },
   "outputs": [],
   "source": [
    "import torch\n",
    "import torch.nn as nn\n",
    "import torch.nn.functional as F\n",
    "import matplotlib.pyplot as plt\n",
    "%matplotlib inline\n",
    "import trainer\n",
    "import utils\n",
    "\n",
    "from collections import OrderedDict\n",
    "from simple_cnn import SimpleCNN\n",
    "from torch.distributions import Beta\n",
    "from torch.utils.data import DataLoader\n",
    "from torch.utils.tensorboard import SummaryWriter\n",
    "from torchvision import models\n",
    "from utils import ARGS\n",
    "from voc_dataset import VOCDataset"
   ]
  },
  {
   "cell_type": "code",
   "execution_count": 5,
   "metadata": {
    "executionInfo": {
     "elapsed": 33,
     "status": "ok",
     "timestamp": 1646159674672,
     "user": {
      "displayName": "Punit Bhatt",
      "photoUrl": "https://lh3.googleusercontent.com/a-/AOh14GgrxmjUFMKUQAzHle30ZYoVyjo08hYnXCz-PrtI=s64",
      "userId": "00383454386425572934"
     },
     "user_tz": 300
    },
    "id": "GkAaqiPbRQHo"
   },
   "outputs": [],
   "source": [
    "def collate_fn_mixup(data):\n",
    "    \"\"\"\n",
    "       data: is a list of tuples with (image, label, wgt).\n",
    "    \"\"\"\n",
    "\n",
    "    n = len(data)\n",
    "    beta = Beta(torch.FloatTensor([0.5]), torch.FloatTensor([0.5]))\n",
    "\n",
    "    alphas = torch.Tensor([beta.sample() for i in range(n)])\n",
    "    indices = torch.randint(low=0, high=n, size=(n,))\n",
    "\n",
    "    images = []\n",
    "    labels = []\n",
    "    wgts = []\n",
    "\n",
    "    for i in range(n):\n",
    "      \n",
    "        alpha, j = alphas[i], indices[i]\n",
    "\n",
    "        image = alpha * data[i][0] + (1. - alpha) * data[j][0]\n",
    "        label = alpha * data[i][1] + (1. - alpha) * data[j][1]\n",
    "        wgt = alpha * data[i][2] + (1. - alpha) * data[j][2]\n",
    "\n",
    "        images.append(image)\n",
    "        labels.append(label)\n",
    "        wgts.append(wgt)\n",
    "\n",
    "    return (torch.stack(images), torch.stack(labels), torch.stack(wgts))\n",
    "\n",
    "def get_data_loader(name='voc', \n",
    "                    train=True, \n",
    "                    batch_size=64, \n",
    "                    split='train', \n",
    "                    inp_size=224,\n",
    "                    perform_transforms=True):\n",
    "    if name == 'voc':\n",
    "        from voc_dataset import VOCDataset\n",
    "        dataset = VOCDataset(split, \n",
    "                             inp_size, \n",
    "                             perform_transforms=perform_transforms)\n",
    "    else:\n",
    "        raise NotImplementedError\n",
    "\n",
    "    if split == 'trainval' or split == 'train':\n",
    "\n",
    "        loader = DataLoader(\n",
    "            dataset,\n",
    "            batch_size=batch_size,\n",
    "            shuffle=train,\n",
    "            collate_fn=collate_fn_mixup,\n",
    "            num_workers=2,\n",
    "        )\n",
    "\n",
    "    elif split == 'test':\n",
    "\n",
    "        loader = DataLoader(\n",
    "            dataset,\n",
    "            batch_size=batch_size,\n",
    "            shuffle=train,\n",
    "            num_workers=2,\n",
    "        )\n",
    "      \n",
    "    return loader"
   ]
  },
  {
   "cell_type": "code",
   "execution_count": 6,
   "metadata": {
    "executionInfo": {
     "elapsed": 29,
     "status": "ok",
     "timestamp": 1646159674673,
     "user": {
      "displayName": "Punit Bhatt",
      "photoUrl": "https://lh3.googleusercontent.com/a-/AOh14GgrxmjUFMKUQAzHle30ZYoVyjo08hYnXCz-PrtI=s64",
      "userId": "00383454386425572934"
     },
     "user_tz": 300
    },
    "id": "XnntN9cFgfRW"
   },
   "outputs": [],
   "source": [
    "from trainer import save_this_epoch, save_model\n",
    "\n",
    "def customBCEWithLogitsLoss(y_hat, y, eps=1e-7):\n",
    "\n",
    "    y_hat = torch.sigmoid(y_hat)\n",
    "\n",
    "    return - torch.mean(y * torch.log(y_hat + eps) + \\\n",
    "                        (1 - y) * torch.log(1 - y_hat + eps))\n",
    "\n",
    "def train(args,\n",
    "          model, \n",
    "          optimizer, \n",
    "          scheduler=None, \n",
    "          model_name='model', \n",
    "          perform_transforms=True):\n",
    "    # TODO Q1.5: Initialize your tensorboard writer here!\n",
    "    train_loader = get_data_loader('voc',\n",
    "                                   train=True,\n",
    "                                   batch_size=args.batch_size,\n",
    "                                   split='trainval',\n",
    "                                   inp_size=args.inp_size,\n",
    "                                   perform_transforms=perform_transforms)\n",
    "    test_loader = get_data_loader('voc', \n",
    "                                  train=False, \n",
    "                                  batch_size=args.test_batch_size, \n",
    "                                  split='test', \n",
    "                                  inp_size=args.inp_size,\n",
    "                                  perform_transforms=perform_transforms)\n",
    "    train_writer = SummaryWriter('runs/{}/train/'.format(model_name))\n",
    "    test_writer = SummaryWriter('runs/{}/test/'.format(model_name))\n",
    "\n",
    "    # Ensure model is in correct mode and on right device\n",
    "    model.train()\n",
    "    model = model.to(args.device)\n",
    "    criterion = customBCEWithLogitsLoss\n",
    "\n",
    "    cnt = 0\n",
    "    for epoch in range(args.epochs):\n",
    "        for batch_idx, (data, target, wgt) in enumerate(train_loader):\n",
    "\n",
    "            # print(len(data))\n",
    "            # print(len(data[0]))\n",
    "\n",
    "            # Get a batch of data.\n",
    "            # data = torch.cat(data)\n",
    "            data, target, wgt = data.to(args.device), \\\n",
    "                                  target.to(args.device), \\\n",
    "                                  wgt.to(args.device), \n",
    "\n",
    "            optimizer.zero_grad()\n",
    "            # Forward pass\n",
    "            output = model(data)\n",
    "            # Calculate the loss\n",
    "            # TODO Q1.4: your loss for multi-label classification\n",
    "            loss = criterion(output, target)\n",
    "            # Calculate gradient w.r.t the loss\n",
    "            loss.backward()\n",
    "            # Optimizer takes one step\n",
    "            optimizer.step()\n",
    "            # Log info\n",
    "            if cnt % args.log_every == 0:\n",
    "                # TODO Q1.5: Log training loss to tensorboard\n",
    "                print('Train Epoch: {} [{} ({:.0f}%)]\\tLoss: {:.6f}'.format(\n",
    "                    epoch, cnt, 100. * batch_idx / len(train_loader), loss.item()))\n",
    "                train_writer.add_scalar('Loss', loss.item(), cnt)\n",
    "                # TODO Q3.2: Log histogram of gradients\n",
    "                for name, param in model.named_parameters():\n",
    "                  train_writer.add_histogram(name, param, cnt)\n",
    "\n",
    "            # Validation iteration\n",
    "            if cnt % args.val_every == 0:\n",
    "                model.eval()\n",
    "                ap, map = utils.eval_dataset_map(model, args.device, test_loader)\n",
    "                # TODO Q1.5: Log MAP to tensorboard\n",
    "                print(\"Test MAP: {}\".format(map))\n",
    "                test_writer.add_scalar('MAP', map, cnt)\n",
    "                model.train()\n",
    "            cnt += 1\n",
    "\n",
    "        # TODO Q3.2: Log Learning rate\n",
    "        if scheduler is not None:\n",
    "            scheduler.step()\n",
    "            train_writer.add_scalar('Learning Rate',\n",
    "                                    scheduler.get_last_lr()[0],\n",
    "                                    epoch)\n",
    "\n",
    "        # save model\n",
    "        if save_this_epoch(args, epoch):\n",
    "            save_model(epoch, model_name, model)\n",
    "\n",
    "    train_writer.close()\n",
    "    test_writer.close()\n",
    "\n",
    "    # Validation iteration\n",
    "    test_loader = utils.get_data_loader('voc', train=False, batch_size=args.test_batch_size, split='test', inp_size=args.inp_size)\n",
    "    ap, map = utils.eval_dataset_map(model, args.device, test_loader)\n",
    "    return ap, map"
   ]
  },
  {
   "cell_type": "code",
   "execution_count": 7,
   "metadata": {
    "colab": {
     "base_uri": "https://localhost:8080/",
     "height": 670,
     "referenced_widgets": [
      "539b46fe19c241be8789350e27e31419",
      "a1c1405710a44fd181c38bb1ea73c0e2",
      "096be95d582d40409a4f028778bca620",
      "e16cb6c2e4e04759a56b8d7290a18e12",
      "ac46d8eded654f87a9b6672e0edd5aa7",
      "b172d1e12e304281ab4ad1a89ef0ef35",
      "d1c726e9a0f04ae9ab1bf7a2643ff4b9",
      "89d83c66ddd34d62a2cb59ab14f5f063",
      "7d12eca8a8bd40c9bb84fc5b952fe069",
      "2f56b8a96f10446192dc8e50f1e2973c",
      "5e29731f734a432e9096ed79efbd091c"
     ]
    },
    "executionInfo": {
     "elapsed": 897098,
     "status": "ok",
     "timestamp": 1646160571744,
     "user": {
      "displayName": "Punit Bhatt",
      "photoUrl": "https://lh3.googleusercontent.com/a-/AOh14GgrxmjUFMKUQAzHle30ZYoVyjo08hYnXCz-PrtI=s64",
      "userId": "00383454386425572934"
     },
     "user_tz": 300
    },
    "id": "xnf5mgmWkEGu",
    "outputId": "2e25d938-cb29-4fbd-f0d5-77a28b9584d2"
   },
   "outputs": [
    {
     "name": "stderr",
     "output_type": "stream",
     "text": [
      "Downloading: \"https://download.pytorch.org/models/resnet18-f37072fd.pth\" to /root/.cache/torch/hub/checkpoints/resnet18-f37072fd.pth\n"
     ]
    },
    {
     "data": {
      "application/vnd.jupyter.widget-view+json": {
       "model_id": "539b46fe19c241be8789350e27e31419",
       "version_major": 2,
       "version_minor": 0
      },
      "text/plain": [
       "  0%|          | 0.00/44.7M [00:00<?, ?B/s]"
      ]
     },
     "metadata": {},
     "output_type": "display_data"
    },
    {
     "name": "stdout",
     "output_type": "stream",
     "text": [
      "Train Epoch: 0 [0 (0%)]\tLoss: 0.683915\n",
      "Test MAP: 0.07488589076267867\n",
      "Train Epoch: 0 [100 (64%)]\tLoss: 0.193822\n",
      "Test MAP: 0.6917148356571825\n",
      "Train Epoch: 1 [200 (27%)]\tLoss: 0.195112\n",
      "Test MAP: 0.756920050627253\n",
      "Train Epoch: 1 [300 (91%)]\tLoss: 0.154010\n",
      "Test MAP: 0.7751576088381446\n",
      "Train Epoch: 2 [400 (55%)]\tLoss: 0.161931\n",
      "Test MAP: 0.7775135723754663\n",
      "Train Epoch: 3 [500 (18%)]\tLoss: 0.161580\n",
      "Test MAP: 0.8035716481726333\n",
      "Train Epoch: 3 [600 (82%)]\tLoss: 0.135562\n",
      "Test MAP: 0.8028374220870322\n",
      "Train Epoch: 4 [700 (46%)]\tLoss: 0.170367\n",
      "Test MAP: 0.8027681345277162\n",
      "Train Epoch: 5 [800 (10%)]\tLoss: 0.118600\n",
      "Test MAP: 0.7992594607378356\n",
      "Train Epoch: 5 [900 (73%)]\tLoss: 0.146181\n",
      "Test MAP: 0.8118295254674928\n",
      "Train Epoch: 6 [1000 (37%)]\tLoss: 0.168247\n",
      "Test MAP: 0.8165006090347499\n",
      "Train Epoch: 7 [1100 (1%)]\tLoss: 0.153970\n",
      "Test MAP: 0.8198434258352195\n",
      "Train Epoch: 7 [1200 (64%)]\tLoss: 0.147718\n",
      "Test MAP: 0.8146744729693138\n",
      "Train Epoch: 8 [1300 (28%)]\tLoss: 0.135329\n",
      "Test MAP: 0.824499993346393\n",
      "Train Epoch: 8 [1400 (92%)]\tLoss: 0.137483\n",
      "Test MAP: 0.8172020622557616\n",
      "Train Epoch: 9 [1500 (55%)]\tLoss: 0.143398\n",
      "Test MAP: 0.8250154289308755\n",
      "test map: 0.8253699763231044\n"
     ]
    }
   ],
   "source": [
    "# Pre-trained weights up to second-to-last layer\n",
    "# final layers should be initialized from scratch!\n",
    "class PretrainedResNet(nn.Module):\n",
    "    def __init__(self):\n",
    "        super().__init__()\n",
    "        self.resnet = models.resnet18(pretrained=True)\n",
    "        n_inputs = self.resnet.fc.in_features\n",
    "\n",
    "        # Initializing a new final layer.\n",
    "        classifier = nn.Sequential(OrderedDict([\n",
    "            ('fc1', nn.Linear(n_inputs, 20))\n",
    "        ]))\n",
    "        self.resnet.fc = classifier\n",
    "    \n",
    "    def forward(self, x):\n",
    "\n",
    "        # Just running the entire model on the data.\n",
    "        return self.resnet(x)\n",
    "\n",
    "args = ARGS(epochs=10,\n",
    "            batch_size=32,\n",
    "            lr=0.0001,\n",
    "            use_cuda=True,\n",
    "            step_size=5,\n",
    "            save_freq=5,\n",
    "            save_at_end=True,\n",
    "            val_every=100)\n",
    "model_name = 'PretrainedResNetMixup3'\n",
    "model = PretrainedResNet()\n",
    "optimizer = torch.optim.Adam(model.parameters(), lr=args.lr)\n",
    "scheduler = torch.optim.lr_scheduler.StepLR(optimizer,\n",
    "                                            step_size=args.step_size,\n",
    "                                            gamma=args.gamma)\n",
    "test_ap, test_map = train(args,\n",
    "                          model,\n",
    "                          optimizer,\n",
    "                          scheduler,\n",
    "                          model_name=model_name)\n",
    "print('test map:', test_map)"
   ]
  },
  {
   "cell_type": "markdown",
   "metadata": {
    "executionInfo": {
     "elapsed": 20,
     "status": "ok",
     "timestamp": 1646157122613,
     "user": {
      "displayName": "Punit Bhatt",
      "photoUrl": "https://lh3.googleusercontent.com/a-/AOh14GgrxmjUFMKUQAzHle30ZYoVyjo08hYnXCz-PrtI=s64",
      "userId": "00383454386425572934"
     },
     "user_tz": 300
    },
    "id": "urGfCbamlhm4"
   },
   "source": [
    "**Plots**\n",
    "\n",
    "![image](images/mixup.png)\n",
    "\n",
    "I added the mixup augmentation procedure using a collate function which would run everytime a batch was called. While I didn't see any performance improvements, which I believe is mostly due to the transforms I am currently using, I believe that this would have helped if I had been training the network from scratch. I also think that having a smarter way of deciding image pairs would also greatly benefit the training using this approach."
   ]
  },
  {
   "cell_type": "code",
   "execution_count": null,
   "metadata": {},
   "outputs": [],
   "source": []
  }
 ],
 "metadata": {
  "accelerator": "GPU",
  "colab": {
   "collapsed_sections": [],
   "name": "q6_extra_credit.ipynb",
   "provenance": []
  },
  "kernelspec": {
   "display_name": "Python 3 (ipykernel)",
   "language": "python",
   "name": "python3"
  },
  "language_info": {
   "codemirror_mode": {
    "name": "ipython",
    "version": 3
   },
   "file_extension": ".py",
   "mimetype": "text/x-python",
   "name": "python",
   "nbconvert_exporter": "python",
   "pygments_lexer": "ipython3",
   "version": "3.9.7"
  },
  "widgets": {
   "application/vnd.jupyter.widget-state+json": {
    "096be95d582d40409a4f028778bca620": {
     "model_module": "@jupyter-widgets/controls",
     "model_module_version": "1.5.0",
     "model_name": "HTMLModel",
     "state": {
      "_dom_classes": [],
      "_model_module": "@jupyter-widgets/controls",
      "_model_module_version": "1.5.0",
      "_model_name": "HTMLModel",
      "_view_count": null,
      "_view_module": "@jupyter-widgets/controls",
      "_view_module_version": "1.5.0",
      "_view_name": "HTMLView",
      "description": "",
      "description_tooltip": null,
      "layout": "IPY_MODEL_d1c726e9a0f04ae9ab1bf7a2643ff4b9",
      "placeholder": "​",
      "style": "IPY_MODEL_b172d1e12e304281ab4ad1a89ef0ef35",
      "value": "100%"
     }
    },
    "2f56b8a96f10446192dc8e50f1e2973c": {
     "model_module": "@jupyter-widgets/controls",
     "model_module_version": "1.5.0",
     "model_name": "DescriptionStyleModel",
     "state": {
      "_model_module": "@jupyter-widgets/controls",
      "_model_module_version": "1.5.0",
      "_model_name": "DescriptionStyleModel",
      "_view_count": null,
      "_view_module": "@jupyter-widgets/base",
      "_view_module_version": "1.2.0",
      "_view_name": "StyleView",
      "description_width": ""
     }
    },
    "539b46fe19c241be8789350e27e31419": {
     "model_module": "@jupyter-widgets/controls",
     "model_module_version": "1.5.0",
     "model_name": "HBoxModel",
     "state": {
      "_dom_classes": [],
      "_model_module": "@jupyter-widgets/controls",
      "_model_module_version": "1.5.0",
      "_model_name": "HBoxModel",
      "_view_count": null,
      "_view_module": "@jupyter-widgets/controls",
      "_view_module_version": "1.5.0",
      "_view_name": "HBoxView",
      "box_style": "",
      "children": [
       "IPY_MODEL_096be95d582d40409a4f028778bca620",
       "IPY_MODEL_e16cb6c2e4e04759a56b8d7290a18e12",
       "IPY_MODEL_ac46d8eded654f87a9b6672e0edd5aa7"
      ],
      "layout": "IPY_MODEL_a1c1405710a44fd181c38bb1ea73c0e2"
     }
    },
    "5e29731f734a432e9096ed79efbd091c": {
     "model_module": "@jupyter-widgets/base",
     "model_module_version": "1.2.0",
     "model_name": "LayoutModel",
     "state": {
      "_model_module": "@jupyter-widgets/base",
      "_model_module_version": "1.2.0",
      "_model_name": "LayoutModel",
      "_view_count": null,
      "_view_module": "@jupyter-widgets/base",
      "_view_module_version": "1.2.0",
      "_view_name": "LayoutView",
      "align_content": null,
      "align_items": null,
      "align_self": null,
      "border": null,
      "bottom": null,
      "display": null,
      "flex": null,
      "flex_flow": null,
      "grid_area": null,
      "grid_auto_columns": null,
      "grid_auto_flow": null,
      "grid_auto_rows": null,
      "grid_column": null,
      "grid_gap": null,
      "grid_row": null,
      "grid_template_areas": null,
      "grid_template_columns": null,
      "grid_template_rows": null,
      "height": null,
      "justify_content": null,
      "justify_items": null,
      "left": null,
      "margin": null,
      "max_height": null,
      "max_width": null,
      "min_height": null,
      "min_width": null,
      "object_fit": null,
      "object_position": null,
      "order": null,
      "overflow": null,
      "overflow_x": null,
      "overflow_y": null,
      "padding": null,
      "right": null,
      "top": null,
      "visibility": null,
      "width": null
     }
    },
    "7d12eca8a8bd40c9bb84fc5b952fe069": {
     "model_module": "@jupyter-widgets/base",
     "model_module_version": "1.2.0",
     "model_name": "LayoutModel",
     "state": {
      "_model_module": "@jupyter-widgets/base",
      "_model_module_version": "1.2.0",
      "_model_name": "LayoutModel",
      "_view_count": null,
      "_view_module": "@jupyter-widgets/base",
      "_view_module_version": "1.2.0",
      "_view_name": "LayoutView",
      "align_content": null,
      "align_items": null,
      "align_self": null,
      "border": null,
      "bottom": null,
      "display": null,
      "flex": null,
      "flex_flow": null,
      "grid_area": null,
      "grid_auto_columns": null,
      "grid_auto_flow": null,
      "grid_auto_rows": null,
      "grid_column": null,
      "grid_gap": null,
      "grid_row": null,
      "grid_template_areas": null,
      "grid_template_columns": null,
      "grid_template_rows": null,
      "height": null,
      "justify_content": null,
      "justify_items": null,
      "left": null,
      "margin": null,
      "max_height": null,
      "max_width": null,
      "min_height": null,
      "min_width": null,
      "object_fit": null,
      "object_position": null,
      "order": null,
      "overflow": null,
      "overflow_x": null,
      "overflow_y": null,
      "padding": null,
      "right": null,
      "top": null,
      "visibility": null,
      "width": null
     }
    },
    "89d83c66ddd34d62a2cb59ab14f5f063": {
     "model_module": "@jupyter-widgets/controls",
     "model_module_version": "1.5.0",
     "model_name": "ProgressStyleModel",
     "state": {
      "_model_module": "@jupyter-widgets/controls",
      "_model_module_version": "1.5.0",
      "_model_name": "ProgressStyleModel",
      "_view_count": null,
      "_view_module": "@jupyter-widgets/base",
      "_view_module_version": "1.2.0",
      "_view_name": "StyleView",
      "bar_color": null,
      "description_width": ""
     }
    },
    "a1c1405710a44fd181c38bb1ea73c0e2": {
     "model_module": "@jupyter-widgets/base",
     "model_module_version": "1.2.0",
     "model_name": "LayoutModel",
     "state": {
      "_model_module": "@jupyter-widgets/base",
      "_model_module_version": "1.2.0",
      "_model_name": "LayoutModel",
      "_view_count": null,
      "_view_module": "@jupyter-widgets/base",
      "_view_module_version": "1.2.0",
      "_view_name": "LayoutView",
      "align_content": null,
      "align_items": null,
      "align_self": null,
      "border": null,
      "bottom": null,
      "display": null,
      "flex": null,
      "flex_flow": null,
      "grid_area": null,
      "grid_auto_columns": null,
      "grid_auto_flow": null,
      "grid_auto_rows": null,
      "grid_column": null,
      "grid_gap": null,
      "grid_row": null,
      "grid_template_areas": null,
      "grid_template_columns": null,
      "grid_template_rows": null,
      "height": null,
      "justify_content": null,
      "justify_items": null,
      "left": null,
      "margin": null,
      "max_height": null,
      "max_width": null,
      "min_height": null,
      "min_width": null,
      "object_fit": null,
      "object_position": null,
      "order": null,
      "overflow": null,
      "overflow_x": null,
      "overflow_y": null,
      "padding": null,
      "right": null,
      "top": null,
      "visibility": null,
      "width": null
     }
    },
    "ac46d8eded654f87a9b6672e0edd5aa7": {
     "model_module": "@jupyter-widgets/controls",
     "model_module_version": "1.5.0",
     "model_name": "HTMLModel",
     "state": {
      "_dom_classes": [],
      "_model_module": "@jupyter-widgets/controls",
      "_model_module_version": "1.5.0",
      "_model_name": "HTMLModel",
      "_view_count": null,
      "_view_module": "@jupyter-widgets/controls",
      "_view_module_version": "1.5.0",
      "_view_name": "HTMLView",
      "description": "",
      "description_tooltip": null,
      "layout": "IPY_MODEL_5e29731f734a432e9096ed79efbd091c",
      "placeholder": "​",
      "style": "IPY_MODEL_2f56b8a96f10446192dc8e50f1e2973c",
      "value": " 44.7M/44.7M [00:00&lt;00:00, 111MB/s]"
     }
    },
    "b172d1e12e304281ab4ad1a89ef0ef35": {
     "model_module": "@jupyter-widgets/controls",
     "model_module_version": "1.5.0",
     "model_name": "DescriptionStyleModel",
     "state": {
      "_model_module": "@jupyter-widgets/controls",
      "_model_module_version": "1.5.0",
      "_model_name": "DescriptionStyleModel",
      "_view_count": null,
      "_view_module": "@jupyter-widgets/base",
      "_view_module_version": "1.2.0",
      "_view_name": "StyleView",
      "description_width": ""
     }
    },
    "d1c726e9a0f04ae9ab1bf7a2643ff4b9": {
     "model_module": "@jupyter-widgets/base",
     "model_module_version": "1.2.0",
     "model_name": "LayoutModel",
     "state": {
      "_model_module": "@jupyter-widgets/base",
      "_model_module_version": "1.2.0",
      "_model_name": "LayoutModel",
      "_view_count": null,
      "_view_module": "@jupyter-widgets/base",
      "_view_module_version": "1.2.0",
      "_view_name": "LayoutView",
      "align_content": null,
      "align_items": null,
      "align_self": null,
      "border": null,
      "bottom": null,
      "display": null,
      "flex": null,
      "flex_flow": null,
      "grid_area": null,
      "grid_auto_columns": null,
      "grid_auto_flow": null,
      "grid_auto_rows": null,
      "grid_column": null,
      "grid_gap": null,
      "grid_row": null,
      "grid_template_areas": null,
      "grid_template_columns": null,
      "grid_template_rows": null,
      "height": null,
      "justify_content": null,
      "justify_items": null,
      "left": null,
      "margin": null,
      "max_height": null,
      "max_width": null,
      "min_height": null,
      "min_width": null,
      "object_fit": null,
      "object_position": null,
      "order": null,
      "overflow": null,
      "overflow_x": null,
      "overflow_y": null,
      "padding": null,
      "right": null,
      "top": null,
      "visibility": null,
      "width": null
     }
    },
    "e16cb6c2e4e04759a56b8d7290a18e12": {
     "model_module": "@jupyter-widgets/controls",
     "model_module_version": "1.5.0",
     "model_name": "FloatProgressModel",
     "state": {
      "_dom_classes": [],
      "_model_module": "@jupyter-widgets/controls",
      "_model_module_version": "1.5.0",
      "_model_name": "FloatProgressModel",
      "_view_count": null,
      "_view_module": "@jupyter-widgets/controls",
      "_view_module_version": "1.5.0",
      "_view_name": "ProgressView",
      "bar_style": "success",
      "description": "",
      "description_tooltip": null,
      "layout": "IPY_MODEL_7d12eca8a8bd40c9bb84fc5b952fe069",
      "max": 46830571,
      "min": 0,
      "orientation": "horizontal",
      "style": "IPY_MODEL_89d83c66ddd34d62a2cb59ab14f5f063",
      "value": 46830571
     }
    }
   }
  }
 },
 "nbformat": 4,
 "nbformat_minor": 1
}
