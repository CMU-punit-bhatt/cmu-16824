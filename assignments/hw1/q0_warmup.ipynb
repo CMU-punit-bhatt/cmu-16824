{
 "cells": [
  {
   "cell_type": "markdown",
   "metadata": {
    "id": "HycrOZ_8gpS5"
   },
   "source": [
    "# Task 0: Fashion MNIST classification in Pytorch (10 points)\n",
    "\n",
    "The goal of this task is to get you familiar with [Pytorch](https://pytorch.org/), teach you to debug your models, and give you a general understanding of deep learning and computer vision work-flows.\n",
    "\n",
    "[Fashion MNIST](https://github.com/zalandoresearch/fashion-mnist) is a dataset of [Zalando’s](https://jobs.zalando.com/tech/) article images — consisting of 70,000 grayscale images in 10\n",
    "categories. Each example is a 28x28 grayscale image, associated with a label from 10 classes. ‘Fashion-\n",
    "MNIST’ is intended to serve as a direct **drop-in replacement** for the original [MNIST](http://yann.lecun.com/exdb/mnist/) dataset — often\n",
    "used as the “Hello, World” of machine learning programs for computer vision. It shares the same image\n",
    "size and structure of training and testing splits. We will use 60,000 images to train the network and\n",
    "10,000 images to evaluate how accurately the network learned to classify images."
   ]
  },
  {
   "cell_type": "code",
   "execution_count": null,
   "metadata": {
    "colab": {
     "base_uri": "https://localhost:8080/"
    },
    "executionInfo": {
     "elapsed": 21762,
     "status": "ok",
     "timestamp": 1644883964460,
     "user": {
      "displayName": "Punit Bhatt",
      "photoUrl": "https://lh3.googleusercontent.com/a/default-user=s64",
      "userId": "17937506259706604992"
     },
     "user_tz": 300
    },
    "id": "NjtK3RXohovy",
    "outputId": "18ea8f25-0cb1-4a2c-bce5-5af196fe6c53"
   },
   "outputs": [
    {
     "name": "stdout",
     "output_type": "stream",
     "text": [
      "Mounted at /content/drive\n",
      "/content/drive/MyDrive/spring22/16824/hw1\n"
     ]
    }
   ],
   "source": [
    "from google.colab import drive\n",
    "drive.mount('/content/drive')\n",
    "\n",
    "%cd drive/MyDrive/spring22/16824/hw1"
   ]
  },
  {
   "cell_type": "markdown",
   "metadata": {
    "id": "2ydFsE89gpS8"
   },
   "source": [
    "### Prerequisites:\n",
    "\n",
    "- Install [conda](https://docs.conda.io/projects/conda/en/latest/user-guide/install/index.html) and create a conda environment to manage all the packages for the homeworks.\n",
    "- Install the following packages in your conda environment:\n",
    "    - [jupyterlab](https://jupyter.org/install) and get familiar with basic operations on jupyter notebook.\n",
    "    - [Pytorch](https://pytorch.org/)\n",
    "    - matplotlib\n",
    "    - tensorboard\n",
    "    - imageio\n",
    "    - sklearn"
   ]
  },
  {
   "cell_type": "code",
   "execution_count": null,
   "metadata": {
    "colab": {
     "base_uri": "https://localhost:8080/"
    },
    "executionInfo": {
     "elapsed": 884,
     "status": "ok",
     "timestamp": 1644886059635,
     "user": {
      "displayName": "Punit Bhatt",
      "photoUrl": "https://lh3.googleusercontent.com/a/default-user=s64",
      "userId": "17937506259706604992"
     },
     "user_tz": 300
    },
    "id": "tm-heLvbgpS9",
    "outputId": "9eb78da3-6a3c-4453-f5d1-75743ed99866"
   },
   "outputs": [
    {
     "name": "stdout",
     "output_type": "stream",
     "text": [
      "The autoreload extension is already loaded. To reload it, use:\n",
      "  %reload_ext autoreload\n"
     ]
    }
   ],
   "source": [
    "%load_ext autoreload\n",
    "%autoreload 2\n",
    "\n",
    "# installation directions can be found on pytorch's webpage\n",
    "import torch\n",
    "import torch.nn as nn\n",
    "import torch.nn.functional as F\n",
    "from torchvision import datasets, transforms\n",
    "import matplotlib.pyplot as plt\n",
    "%matplotlib inline\n",
    "\n",
    "# import our network module from simple_cnn.py\n",
    "from simple_cnn import SimpleCNN              # be sure to modify or you may have to restart kernel!"
   ]
  },
  {
   "cell_type": "markdown",
   "metadata": {
    "id": "0HxnmEQJgpS-"
   },
   "source": [
    "Usually you'll parse arguments using `argparse` (or similar library) but we can simply use a stand-in object for ipython notebooks. Furthermore, PyTorch can do computations on NVidia `GPU`s or on normal `CPU`s. You can configure the setting using the `device` variable."
   ]
  },
  {
   "cell_type": "code",
   "execution_count": null,
   "metadata": {
    "id": "0AZssaD_gpS_"
   },
   "outputs": [],
   "source": [
    "class ARGS(object):\n",
    "    # input batch size for training \n",
    "    batch_size = 64\n",
    "    # input batch size for testing\n",
    "    test_batch_size=1000\n",
    "    # number of epochs to train for\n",
    "    epochs = 3\n",
    "    # learning rate\n",
    "    lr = 0.001\n",
    "    # Learning rate step gamma\n",
    "    gamma = 0.1\n",
    "    # how many batches to wait before logging training status\n",
    "    log_every = 100\n",
    "    # how many batches to wait before evaluating model\n",
    "    val_every = 100\n",
    "    # set true if using GPU during training\n",
    "    use_cuda = True\n",
    "\n",
    "args = ARGS()\n",
    "device = torch.device(\"cuda\" if args.use_cuda else \"cpu\")"
   ]
  },
  {
   "cell_type": "markdown",
   "metadata": {
    "id": "hHPJPSVogpTA"
   },
   "source": [
    "We define some basic testing and training code. The testing code prints out the average test loss and the training code (`main`) plots train/test losses and returns the final model."
   ]
  },
  {
   "cell_type": "code",
   "execution_count": null,
   "metadata": {
    "id": "0A5Gbw78gpTA"
   },
   "outputs": [],
   "source": [
    "def test(model, device, test_loader):\n",
    "    \"\"\"Evaluate model on test dataset.\"\"\"\n",
    "    model.eval()\n",
    "    test_loss = 0\n",
    "    correct = 0\n",
    "    with torch.no_grad():\n",
    "        for data, target in test_loader:\n",
    "            data, target = data.to(device), target.to(device)\n",
    "            output = model(data)\n",
    "            test_loss += F.cross_entropy(output, target, reduction='sum').item()  # sum up batch loss\n",
    "            pred = output.argmax(dim=1, keepdim=True)  # get the index of the max log-probability\n",
    "            correct += pred.eq(target.view_as(pred)).sum().item()\n",
    "\n",
    "    test_loss /= len(test_loader.dataset)\n",
    "\n",
    "    print('\\nTest set: Average loss: {:.4f}, Accuracy: {}/{} ({:.0f}%)\\n'.format(\n",
    "        test_loss, correct, len(test_loader.dataset),\n",
    "        100. * correct / len(test_loader.dataset)))\n",
    "\n",
    "    return test_loss, correct / len(test_loader.dataset)\n",
    "\n",
    "def get_accuracy(y, y_hat):\n",
    "  return torch.sum(y == torch.argmax(y_hat, dim=1)) / len(y)\n",
    "\n",
    "def main():\n",
    "    # 1. load dataset and build dataloader\n",
    "    train_loader = torch.utils.data.DataLoader(\n",
    "        datasets.FashionMNIST('../data', train=True, download=True,\n",
    "                       transform=transforms.Compose([\n",
    "                           transforms.ToTensor(),\n",
    "                           transforms.Normalize((0.1307,), (0.3081,))\n",
    "                       ])),\n",
    "        batch_size=args.batch_size, shuffle=True)\n",
    "    test_loader = torch.utils.data.DataLoader(\n",
    "        datasets.FashionMNIST('../data', train=False, transform=transforms.Compose([\n",
    "                           transforms.ToTensor(),\n",
    "                           transforms.Normalize((0.1307,), (0.3081,))\n",
    "                       ])),\n",
    "        batch_size=args.test_batch_size, shuffle=True)\n",
    "\n",
    "    # 2. define the model, and optimizer.\n",
    "    model = SimpleCNN().to(device)\n",
    "    model.train()\n",
    "    optimizer = torch.optim.Adam(model.parameters(), lr=args.lr)\n",
    "\n",
    "    scheduler = torch.optim.lr_scheduler.StepLR(optimizer,\n",
    "                                                step_size=1,\n",
    "                                                gamma=args.gamma)\n",
    "    cnt = 0\n",
    "    train_log = {'iter': [], 'loss': [], 'accuracy': []}\n",
    "    test_log = {'iter': [], 'loss': [], 'accuracy': []}\n",
    "    for epoch in range(args.epochs):\n",
    "        for batch_idx, (data, target) in enumerate(train_loader):\n",
    "            # Get a batch of data\n",
    "            data, target = data.to(device), target.to(device)\n",
    "            optimizer.zero_grad()\n",
    "            # Forward pass\n",
    "            output = model(data)\n",
    "            # Calculate the loss\n",
    "            loss = F.cross_entropy(output, target)\n",
    "            # Calculate gradient w.r.t the loss\n",
    "            loss.backward()\n",
    "            # Optimizer takes one step\n",
    "            optimizer.step()\n",
    "            # Log info\n",
    "            if cnt % args.log_every == 0:\n",
    "                print('Train Epoch: {} [{}/{} ({:.0f}%)]\\tLoss: {:.6f}'.format(\n",
    "                    epoch, cnt, len(train_loader.dataset),\n",
    "                           100. * batch_idx / len(train_loader), loss.item()))\n",
    "                train_log['iter'].append(cnt)\n",
    "                train_log['loss'].append(loss.cpu().detach().numpy())\n",
    "                # TODO: q0.1 calculate your train accuracy!\n",
    "                train_log['accuracy'].append(get_accuracy(target, output))\n",
    "\n",
    "            # Validation iteration\n",
    "            if cnt % args.val_every == 0:\n",
    "                test_loss, test_acc = test(model, device, test_loader)\n",
    "                test_log['iter'].append(cnt)\n",
    "                test_log['loss'].append(test_loss)\n",
    "                test_log['accuracy'].append(test_acc)\n",
    "                model.train()\n",
    "            cnt += 1\n",
    "        scheduler.step()\n",
    "    fig = plt.figure()\n",
    "    plt.plot(train_log['iter'], train_log['loss'], 'r', label='Training')\n",
    "    plt.plot(test_log['iter'], test_log['loss'], 'b', label='Testing')\n",
    "    plt.title('Loss')\n",
    "    plt.legend()\n",
    "    fig = plt.figure()\n",
    "    plt.plot(train_log['iter'], train_log['accuracy'], 'r', label='Training')\n",
    "    plt.plot(test_log['iter'], test_log['accuracy'], 'b', label='Testing')\n",
    "    plt.title('Accuracy')\n",
    "    plt.legend()\n",
    "    plt.show()\n",
    "    return model"
   ]
  },
  {
   "cell_type": "markdown",
   "metadata": {
    "id": "RhWYhEhBgpTC"
   },
   "source": [
    "## 0.1 Bug Fix and Hyper-parameter search. (2pts)\n",
    "\n",
    "Simply running `main` will result in a `RuntimeError`! \n",
    "- (1 pt) Check out `TODO: q0.1` in  `simple_cnn.py` and see if you can fix the bug. You may have to restart your ipython kernel for changes to reflect in the notebook. \n",
    "- (1 pt) Fill in the `TODO: q0.1` in the `main()` function above to calculated the train accuracy.\n",
    "\n",
    "\n",
    "Once you fix the bugs, you should be able to get a reasonable accuracy (>80%) within 100 iterations just by tuning some hyper-parameter. Include the train/test plots of your best hyperparamter setting and comment on why you think these settings worked best. (you can complete this task on CPU)\n",
    "\n",
    "**Answer:**\n",
    "\n",
    "I went ahead with a lower learning rate (0.001) and gamma=1 (that is, no learning rate decay). Considering it's just for 5 epochs there is no need to reduce the learning rate. The default learning rate (1) is too high. This would lead to the learning taking huge steps in the direction of the gradient per update.\n"
   ]
  },
  {
   "cell_type": "code",
   "execution_count": null,
   "metadata": {
    "colab": {
     "base_uri": "https://localhost:8080/",
     "height": 1000
    },
    "executionInfo": {
     "elapsed": 117940,
     "status": "ok",
     "timestamp": 1644885357360,
     "user": {
      "displayName": "Punit Bhatt",
      "photoUrl": "https://lh3.googleusercontent.com/a/default-user=s64",
      "userId": "17937506259706604992"
     },
     "user_tz": 300
    },
    "id": "fQPNaioZgpTD",
    "outputId": "ff3f9a96-6101-4fec-dd7b-0cc3d2a4e00f"
   },
   "outputs": [
    {
     "name": "stdout",
     "output_type": "stream",
     "text": [
      "args.batch_size = 64\n",
      "args.epochs = 3\n",
      "args.gamma = 0.1\n",
      "args.log_every = 100\n",
      "args.lr = 0.001\n",
      "args.test_batch_size = 1000\n",
      "args.val_every = 100\n",
      "\n",
      "\n",
      "\n",
      "Train Epoch: 0 [0/60000 (0%)]\tLoss: 2.313833\n",
      "\n",
      "Test set: Average loss: 2.0405, Accuracy: 3639/10000 (36%)\n",
      "\n",
      "Train Epoch: 0 [100/60000 (11%)]\tLoss: 0.767381\n",
      "\n",
      "Test set: Average loss: 0.6567, Accuracy: 7677/10000 (77%)\n",
      "\n",
      "Train Epoch: 0 [200/60000 (21%)]\tLoss: 0.699186\n",
      "\n",
      "Test set: Average loss: 0.5975, Accuracy: 7847/10000 (78%)\n",
      "\n",
      "Train Epoch: 0 [300/60000 (32%)]\tLoss: 0.514834\n",
      "\n",
      "Test set: Average loss: 0.5549, Accuracy: 8025/10000 (80%)\n",
      "\n",
      "Train Epoch: 0 [400/60000 (43%)]\tLoss: 0.429661\n",
      "\n",
      "Test set: Average loss: 0.5462, Accuracy: 8109/10000 (81%)\n",
      "\n",
      "Train Epoch: 0 [500/60000 (53%)]\tLoss: 0.534218\n",
      "\n",
      "Test set: Average loss: 0.5346, Accuracy: 8121/10000 (81%)\n",
      "\n",
      "Train Epoch: 0 [600/60000 (64%)]\tLoss: 0.405535\n",
      "\n",
      "Test set: Average loss: 0.5246, Accuracy: 8145/10000 (81%)\n",
      "\n",
      "Train Epoch: 0 [700/60000 (75%)]\tLoss: 0.581373\n",
      "\n",
      "Test set: Average loss: 0.5035, Accuracy: 8186/10000 (82%)\n",
      "\n",
      "Train Epoch: 0 [800/60000 (85%)]\tLoss: 0.620422\n",
      "\n",
      "Test set: Average loss: 0.5133, Accuracy: 8154/10000 (82%)\n",
      "\n",
      "Train Epoch: 0 [900/60000 (96%)]\tLoss: 0.588187\n",
      "\n",
      "Test set: Average loss: 0.4963, Accuracy: 8262/10000 (83%)\n",
      "\n",
      "Train Epoch: 1 [1000/60000 (7%)]\tLoss: 0.353913\n",
      "\n",
      "Test set: Average loss: 0.4763, Accuracy: 8332/10000 (83%)\n",
      "\n",
      "Train Epoch: 1 [1100/60000 (17%)]\tLoss: 0.421877\n",
      "\n",
      "Test set: Average loss: 0.4755, Accuracy: 8308/10000 (83%)\n",
      "\n",
      "Train Epoch: 1 [1200/60000 (28%)]\tLoss: 0.485004\n",
      "\n",
      "Test set: Average loss: 0.4710, Accuracy: 8344/10000 (83%)\n",
      "\n",
      "Train Epoch: 1 [1300/60000 (39%)]\tLoss: 0.216119\n",
      "\n",
      "Test set: Average loss: 0.4727, Accuracy: 8344/10000 (83%)\n",
      "\n",
      "Train Epoch: 1 [1400/60000 (49%)]\tLoss: 0.464486\n",
      "\n",
      "Test set: Average loss: 0.4695, Accuracy: 8354/10000 (84%)\n",
      "\n",
      "Train Epoch: 1 [1500/60000 (60%)]\tLoss: 0.314130\n",
      "\n",
      "Test set: Average loss: 0.4665, Accuracy: 8365/10000 (84%)\n",
      "\n",
      "Train Epoch: 1 [1600/60000 (71%)]\tLoss: 0.301188\n",
      "\n",
      "Test set: Average loss: 0.4652, Accuracy: 8368/10000 (84%)\n",
      "\n",
      "Train Epoch: 1 [1700/60000 (81%)]\tLoss: 0.348357\n",
      "\n",
      "Test set: Average loss: 0.4646, Accuracy: 8361/10000 (84%)\n",
      "\n",
      "Train Epoch: 1 [1800/60000 (92%)]\tLoss: 0.602126\n",
      "\n",
      "Test set: Average loss: 0.4621, Accuracy: 8372/10000 (84%)\n",
      "\n",
      "Train Epoch: 2 [1900/60000 (3%)]\tLoss: 0.440791\n",
      "\n",
      "Test set: Average loss: 0.4626, Accuracy: 8348/10000 (83%)\n",
      "\n",
      "Train Epoch: 2 [2000/60000 (13%)]\tLoss: 0.433953\n",
      "\n",
      "Test set: Average loss: 0.4617, Accuracy: 8357/10000 (84%)\n",
      "\n",
      "Train Epoch: 2 [2100/60000 (24%)]\tLoss: 0.431265\n",
      "\n",
      "Test set: Average loss: 0.4614, Accuracy: 8376/10000 (84%)\n",
      "\n",
      "Train Epoch: 2 [2200/60000 (35%)]\tLoss: 0.709059\n",
      "\n",
      "Test set: Average loss: 0.4607, Accuracy: 8367/10000 (84%)\n",
      "\n",
      "Train Epoch: 2 [2300/60000 (45%)]\tLoss: 0.360999\n",
      "\n",
      "Test set: Average loss: 0.4610, Accuracy: 8354/10000 (84%)\n",
      "\n",
      "Train Epoch: 2 [2400/60000 (56%)]\tLoss: 0.375440\n",
      "\n",
      "Test set: Average loss: 0.4599, Accuracy: 8363/10000 (84%)\n",
      "\n",
      "Train Epoch: 2 [2500/60000 (67%)]\tLoss: 0.561486\n",
      "\n",
      "Test set: Average loss: 0.4599, Accuracy: 8367/10000 (84%)\n",
      "\n",
      "Train Epoch: 2 [2600/60000 (77%)]\tLoss: 0.494834\n",
      "\n",
      "Test set: Average loss: 0.4596, Accuracy: 8365/10000 (84%)\n",
      "\n",
      "Train Epoch: 2 [2700/60000 (88%)]\tLoss: 0.309157\n",
      "\n",
      "Test set: Average loss: 0.4594, Accuracy: 8376/10000 (84%)\n",
      "\n",
      "Train Epoch: 2 [2800/60000 (99%)]\tLoss: 0.496951\n",
      "\n",
      "Test set: Average loss: 0.4591, Accuracy: 8376/10000 (84%)\n",
      "\n"
     ]
    },
    {
     "data": {
      "image/png": "[encoded data removed]",
      "text/plain": [
       "<Figure size 432x288 with 1 Axes>"
      ]
     },
     "metadata": {
      "needs_background": "light"
     },
     "output_type": "display_data"
    },
    {
     "data": {
      "image/png": "[encoded data removed]",
      "text/plain": [
       "<Figure size 432x288 with 1 Axes>"
      ]
     },
     "metadata": {
      "needs_background": "light"
     },
     "output_type": "display_data"
    }
   ],
   "source": [
    "#### FEEL FREE TO MODIFY args VARIABLE HERE OR ABOVE ####\n",
    "# args.gamma = float('inf')\n",
    "\n",
    "\n",
    "# DON'T CHANGE\n",
    "# prints out arguments and runs main\n",
    "for attr in dir(args):\n",
    "    if '__' not in attr and attr !='use_cuda':\n",
    "        print('args.{} = {}'.format(attr, getattr(args, attr)))\n",
    "print('\\n\\n')\n",
    "model = main()"
   ]
  },
  {
   "cell_type": "markdown",
   "metadata": {
    "id": "479_uCEJgpTD"
   },
   "source": [
    "## 0.2 Play with parameters.(3pt)\n",
    "How many trainable parameters does the trained model have? The answer needs to depend on the input `model` - outputting a constant number will not get any credits. Hint: Find out how to use model.parameters() in PyTorch."
   ]
  },
  {
   "cell_type": "code",
   "execution_count": null,
   "metadata": {
    "colab": {
     "base_uri": "https://localhost:8080/"
    },
    "executionInfo": {
     "elapsed": 317,
     "status": "ok",
     "timestamp": 1644885920987,
     "user": {
      "displayName": "Punit Bhatt",
      "photoUrl": "https://lh3.googleusercontent.com/a/default-user=s64",
      "userId": "17937506259706604992"
     },
     "user_tz": 300
    },
    "id": "RF5_nOSWgpTE",
    "outputId": "fbeee4b5-6ef3-475c-d9b3-c614e217362e"
   },
   "outputs": [
    {
     "name": "stdout",
     "output_type": "stream",
     "text": [
      "Model has 454922 learnable params\n"
     ]
    }
   ],
   "source": [
    "def param_count(model):      \n",
    "    return sum([params.numel() for params in model.parameters() \\\n",
    "                if params.requires_grad])\n",
    "\n",
    "print('Model has {} learnable params'.format(param_count(model)))"
   ]
  },
  {
   "cell_type": "markdown",
   "metadata": {
    "id": "LTziq9kmgpTE"
   },
   "source": [
    "## 0.3 Deep Linear Networks?!? (5pt)\n",
    "Until this point, there are no non-linearities in the SimpleCNN! (Your TAs were just as surprised as you are at the results.) Your next task is to modify `simple_cnn.py` to add non-linear activation layers, and train your model in full scale. Make sure to add non-linearities at **every** applicable layer.\n",
    "\n",
    "Compute the loss and accuracy curves on train and test sets after 5 epochs. The accuracy should be around 90% or higher."
   ]
  },
  {
   "cell_type": "code",
   "execution_count": null,
   "metadata": {
    "colab": {
     "base_uri": "https://localhost:8080/",
     "height": 1000
    },
    "executionInfo": {
     "elapsed": 196284,
     "status": "ok",
     "timestamp": 1644889359988,
     "user": {
      "displayName": "Punit Bhatt",
      "photoUrl": "https://lh3.googleusercontent.com/a/default-user=s64",
      "userId": "17937506259706604992"
     },
     "user_tz": 300
    },
    "id": "nsfawYGzgpTF",
    "outputId": "e1ca1175-835a-45cb-ce08-d7bdbd7fb266"
   },
   "outputs": [
    {
     "name": "stdout",
     "output_type": "stream",
     "text": [
      "Train Epoch: 0 [0/60000 (0%)]\tLoss: 2.315547\n",
      "\n",
      "Test set: Average loss: 2.2440, Accuracy: 2616/10000 (26%)\n",
      "\n",
      "Train Epoch: 0 [100/60000 (11%)]\tLoss: 0.518931\n",
      "\n",
      "Test set: Average loss: 0.5772, Accuracy: 7894/10000 (79%)\n",
      "\n",
      "Train Epoch: 0 [200/60000 (21%)]\tLoss: 0.592186\n",
      "\n",
      "Test set: Average loss: 0.5066, Accuracy: 8115/10000 (81%)\n",
      "\n",
      "Train Epoch: 0 [300/60000 (32%)]\tLoss: 0.433855\n",
      "\n",
      "Test set: Average loss: 0.5422, Accuracy: 7869/10000 (79%)\n",
      "\n",
      "Train Epoch: 0 [400/60000 (43%)]\tLoss: 0.602194\n",
      "\n",
      "Test set: Average loss: 0.4447, Accuracy: 8383/10000 (84%)\n",
      "\n",
      "Train Epoch: 0 [500/60000 (53%)]\tLoss: 0.463132\n",
      "\n",
      "Test set: Average loss: 0.4174, Accuracy: 8495/10000 (85%)\n",
      "\n",
      "Train Epoch: 0 [600/60000 (64%)]\tLoss: 0.327152\n",
      "\n",
      "Test set: Average loss: 0.3901, Accuracy: 8578/10000 (86%)\n",
      "\n",
      "Train Epoch: 0 [700/60000 (75%)]\tLoss: 0.284628\n",
      "\n",
      "Test set: Average loss: 0.3681, Accuracy: 8657/10000 (87%)\n",
      "\n",
      "Train Epoch: 0 [800/60000 (85%)]\tLoss: 0.332692\n",
      "\n",
      "Test set: Average loss: 0.3613, Accuracy: 8682/10000 (87%)\n",
      "\n",
      "Train Epoch: 0 [900/60000 (96%)]\tLoss: 0.415297\n",
      "\n",
      "Test set: Average loss: 0.3429, Accuracy: 8747/10000 (87%)\n",
      "\n",
      "Train Epoch: 1 [1000/60000 (7%)]\tLoss: 0.244646\n",
      "\n",
      "Test set: Average loss: 0.3236, Accuracy: 8834/10000 (88%)\n",
      "\n",
      "Train Epoch: 1 [1100/60000 (17%)]\tLoss: 0.275706\n",
      "\n",
      "Test set: Average loss: 0.3540, Accuracy: 8739/10000 (87%)\n",
      "\n",
      "Train Epoch: 1 [1200/60000 (28%)]\tLoss: 0.210648\n",
      "\n",
      "Test set: Average loss: 0.3186, Accuracy: 8841/10000 (88%)\n",
      "\n",
      "Train Epoch: 1 [1300/60000 (39%)]\tLoss: 0.377361\n",
      "\n",
      "Test set: Average loss: 0.3094, Accuracy: 8862/10000 (89%)\n",
      "\n",
      "Train Epoch: 1 [1400/60000 (49%)]\tLoss: 0.384832\n",
      "\n",
      "Test set: Average loss: 0.3252, Accuracy: 8807/10000 (88%)\n",
      "\n",
      "Train Epoch: 1 [1500/60000 (60%)]\tLoss: 0.279750\n",
      "\n",
      "Test set: Average loss: 0.2998, Accuracy: 8905/10000 (89%)\n",
      "\n",
      "Train Epoch: 1 [1600/60000 (71%)]\tLoss: 0.346530\n",
      "\n",
      "Test set: Average loss: 0.2992, Accuracy: 8886/10000 (89%)\n",
      "\n",
      "Train Epoch: 1 [1700/60000 (81%)]\tLoss: 0.374076\n",
      "\n",
      "Test set: Average loss: 0.3104, Accuracy: 8858/10000 (89%)\n",
      "\n",
      "Train Epoch: 1 [1800/60000 (92%)]\tLoss: 0.276514\n",
      "\n",
      "Test set: Average loss: 0.3025, Accuracy: 8879/10000 (89%)\n",
      "\n",
      "Train Epoch: 2 [1900/60000 (3%)]\tLoss: 0.230853\n",
      "\n",
      "Test set: Average loss: 0.2972, Accuracy: 8907/10000 (89%)\n",
      "\n",
      "Train Epoch: 2 [2000/60000 (13%)]\tLoss: 0.192272\n",
      "\n",
      "Test set: Average loss: 0.3132, Accuracy: 8872/10000 (89%)\n",
      "\n",
      "Train Epoch: 2 [2100/60000 (24%)]\tLoss: 0.138500\n",
      "\n",
      "Test set: Average loss: 0.2952, Accuracy: 8947/10000 (89%)\n",
      "\n",
      "Train Epoch: 2 [2200/60000 (35%)]\tLoss: 0.190024\n",
      "\n",
      "Test set: Average loss: 0.2784, Accuracy: 8962/10000 (90%)\n",
      "\n",
      "Train Epoch: 2 [2300/60000 (45%)]\tLoss: 0.457689\n",
      "\n",
      "Test set: Average loss: 0.2906, Accuracy: 8943/10000 (89%)\n",
      "\n",
      "Train Epoch: 2 [2400/60000 (56%)]\tLoss: 0.388974\n",
      "\n",
      "Test set: Average loss: 0.2887, Accuracy: 8925/10000 (89%)\n",
      "\n",
      "Train Epoch: 2 [2500/60000 (67%)]\tLoss: 0.375273\n",
      "\n",
      "Test set: Average loss: 0.2734, Accuracy: 8990/10000 (90%)\n",
      "\n",
      "Train Epoch: 2 [2600/60000 (77%)]\tLoss: 0.363811\n",
      "\n",
      "Test set: Average loss: 0.2725, Accuracy: 9014/10000 (90%)\n",
      "\n",
      "Train Epoch: 2 [2700/60000 (88%)]\tLoss: 0.144449\n",
      "\n",
      "Test set: Average loss: 0.2816, Accuracy: 8983/10000 (90%)\n",
      "\n",
      "Train Epoch: 2 [2800/60000 (99%)]\tLoss: 0.354625\n",
      "\n",
      "Test set: Average loss: 0.2739, Accuracy: 8983/10000 (90%)\n",
      "\n",
      "Train Epoch: 3 [2900/60000 (9%)]\tLoss: 0.270243\n",
      "\n",
      "Test set: Average loss: 0.2709, Accuracy: 9031/10000 (90%)\n",
      "\n",
      "Train Epoch: 3 [3000/60000 (20%)]\tLoss: 0.194369\n",
      "\n",
      "Test set: Average loss: 0.2749, Accuracy: 9006/10000 (90%)\n",
      "\n",
      "Train Epoch: 3 [3100/60000 (30%)]\tLoss: 0.124195\n",
      "\n",
      "Test set: Average loss: 0.2597, Accuracy: 9081/10000 (91%)\n",
      "\n",
      "Train Epoch: 3 [3200/60000 (41%)]\tLoss: 0.277250\n",
      "\n",
      "Test set: Average loss: 0.2750, Accuracy: 9007/10000 (90%)\n",
      "\n",
      "Train Epoch: 3 [3300/60000 (52%)]\tLoss: 0.095316\n",
      "\n",
      "Test set: Average loss: 0.2522, Accuracy: 9110/10000 (91%)\n",
      "\n",
      "Train Epoch: 3 [3400/60000 (62%)]\tLoss: 0.228351\n",
      "\n",
      "Test set: Average loss: 0.2497, Accuracy: 9111/10000 (91%)\n",
      "\n",
      "Train Epoch: 3 [3500/60000 (73%)]\tLoss: 0.158302\n",
      "\n",
      "Test set: Average loss: 0.2459, Accuracy: 9099/10000 (91%)\n",
      "\n",
      "Train Epoch: 3 [3600/60000 (84%)]\tLoss: 0.174039\n",
      "\n",
      "Test set: Average loss: 0.2624, Accuracy: 9043/10000 (90%)\n",
      "\n",
      "Train Epoch: 3 [3700/60000 (94%)]\tLoss: 0.152985\n",
      "\n",
      "Test set: Average loss: 0.2606, Accuracy: 9059/10000 (91%)\n",
      "\n",
      "Train Epoch: 4 [3800/60000 (5%)]\tLoss: 0.106599\n",
      "\n",
      "Test set: Average loss: 0.2654, Accuracy: 9068/10000 (91%)\n",
      "\n",
      "Train Epoch: 4 [3900/60000 (16%)]\tLoss: 0.253812\n",
      "\n",
      "Test set: Average loss: 0.2675, Accuracy: 9027/10000 (90%)\n",
      "\n",
      "Train Epoch: 4 [4000/60000 (26%)]\tLoss: 0.159616\n",
      "\n",
      "Test set: Average loss: 0.2746, Accuracy: 9004/10000 (90%)\n",
      "\n",
      "Train Epoch: 4 [4100/60000 (37%)]\tLoss: 0.234070\n",
      "\n",
      "Test set: Average loss: 0.2584, Accuracy: 9079/10000 (91%)\n",
      "\n",
      "Train Epoch: 4 [4200/60000 (48%)]\tLoss: 0.190306\n",
      "\n",
      "Test set: Average loss: 0.2429, Accuracy: 9112/10000 (91%)\n",
      "\n",
      "Train Epoch: 4 [4300/60000 (58%)]\tLoss: 0.378485\n",
      "\n",
      "Test set: Average loss: 0.2473, Accuracy: 9128/10000 (91%)\n",
      "\n",
      "Train Epoch: 4 [4400/60000 (69%)]\tLoss: 0.175282\n",
      "\n",
      "Test set: Average loss: 0.2444, Accuracy: 9122/10000 (91%)\n",
      "\n",
      "Train Epoch: 4 [4500/60000 (80%)]\tLoss: 0.141348\n",
      "\n",
      "Test set: Average loss: 0.2603, Accuracy: 9067/10000 (91%)\n",
      "\n",
      "Train Epoch: 4 [4600/60000 (90%)]\tLoss: 0.096475\n",
      "\n",
      "Test set: Average loss: 0.2715, Accuracy: 9090/10000 (91%)\n",
      "\n"
     ]
    },
    {
     "data": {
      "image/png": "[encoded data removed]",
      "text/plain": [
       "<Figure size 432x288 with 1 Axes>"
      ]
     },
     "metadata": {
      "needs_background": "light"
     },
     "output_type": "display_data"
    },
    {
     "data": {
      "image/png": "[encoded data removed]",
      "text/plain": [
       "<Figure size 432x288 with 1 Axes>"
      ]
     },
     "metadata": {
      "needs_background": "light"
     },
     "output_type": "display_data"
    },
    {
     "data": {
      "text/plain": [
       "SimpleCNN(\n",
       "  (conv1): Conv2d(1, 32, kernel_size=(5, 5), stride=(1, 1), padding=(2, 2))\n",
       "  (conv2): Conv2d(32, 64, kernel_size=(5, 5), stride=(1, 1), padding=(2, 2))\n",
       "  (nonlinear): ReLU()\n",
       "  (pool1): AvgPool2d(kernel_size=2, stride=2, padding=0)\n",
       "  (pool2): AvgPool2d(kernel_size=2, stride=2, padding=0)\n",
       "  (fc1): Sequential(\n",
       "    (0): Linear(in_features=3136, out_features=128, bias=True)\n",
       "    (1): ReLU()\n",
       "  )\n",
       "  (fc2): Sequential(\n",
       "    (0): Linear(in_features=128, out_features=10, bias=True)\n",
       "  )\n",
       ")"
      ]
     },
     "execution_count": 36,
     "metadata": {},
     "output_type": "execute_result"
    }
   ],
   "source": [
    "args.epochs = 5\n",
    "args.lr = 0.001\n",
    "args.gamma = 1.0\n",
    "main()"
   ]
  },
  {
   "cell_type": "markdown",
   "metadata": {
    "id": "bjsSaWEGgpTG"
   },
   "source": [
    "**Where did you add your non-linearities?**\n",
    "\n",
    "I added the non-linearities after every convolution and fully connected layers.\n",
    "\n",
    "\n",
    "<br><br><br>\n",
    "**Provide some insights on why the results was fairly good even without activation layers. (2 pts)**\n",
    "\n",
    "The CNN without non-linearity is essentially a collection of filters that are run on the image and their output go through a bunch of fully connected layers which behave like a logistic regression classifier. So, in all, the network is just a collection of filters run on the image and their output going through a classifier.\n",
    "\n",
    "Now, looking at the dataset, fashionmnist has basic grayscale images that don't need any complex functions/filters to be learned. Thus, basic low level filters that are run on the image are enough to output a feature vector unique enough to classify them with some success."
   ]
  },
  {
   "cell_type": "code",
   "execution_count": null,
   "metadata": {
    "id": "XG6e8BqrgpTG"
   },
   "outputs": [],
   "source": []
  }
 ],
 "metadata": {
  "accelerator": "GPU",
  "colab": {
   "collapsed_sections": [],
   "name": "q0_warmup.ipynb",
   "provenance": []
  },
  "kernelspec": {
   "display_name": "Python 3 (ipykernel)",
   "language": "python",
   "name": "python3"
  },
  "language_info": {
   "codemirror_mode": {
    "name": "ipython",
    "version": 3
   },
   "file_extension": ".py",
   "mimetype": "text/x-python",
   "name": "python",
   "nbconvert_exporter": "python",
   "pygments_lexer": "ipython3",
   "version": "3.9.7"
  }
 },
 "nbformat": 4,
 "nbformat_minor": 1
}
